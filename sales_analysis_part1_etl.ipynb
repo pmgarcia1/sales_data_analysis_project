{
 "cells": [
  {
   "cell_type": "code",
   "execution_count": 1,
   "id": "6733a9ed-6688-4543-a17d-512cbbc31702",
   "metadata": {},
   "outputs": [],
   "source": [
    "# ===== SALES ANALYSIS PROJECT =====\n",
    "\n",
    "# Part I: Extract, Transform, Load "
   ]
  },
  {
   "cell_type": "code",
   "execution_count": 2,
   "id": "792213e9-6f8a-4811-8764-e380ed240727",
   "metadata": {},
   "outputs": [],
   "source": [
    "# Import libraries\n",
    "\n",
    "import pandas as pd\n",
    "import numpy as np"
   ]
  },
  {
   "cell_type": "code",
   "execution_count": 3,
   "id": "ecabaa2b-3791-4442-8cc0-b589909e6639",
   "metadata": {},
   "outputs": [],
   "source": [
    "# Extract data from feather file and into a DataFrame\n",
    "\n",
    "raw_sales_data = pd.read_feather(r\"C:\\Users\\paulm\\OneDrive\\Desktop\\Data Projects\\4..+Sales+Analysis\\Sales_data.ftr\")"
   ]
  },
  {
   "cell_type": "code",
   "execution_count": 4,
   "id": "708636cd-8845-4ba4-9fd3-79ca7a364cf8",
   "metadata": {},
   "outputs": [
    {
     "data": {
      "text/html": [
       "<div>\n",
       "<style scoped>\n",
       "    .dataframe tbody tr th:only-of-type {\n",
       "        vertical-align: middle;\n",
       "    }\n",
       "\n",
       "    .dataframe tbody tr th {\n",
       "        vertical-align: top;\n",
       "    }\n",
       "\n",
       "    .dataframe thead th {\n",
       "        text-align: right;\n",
       "    }\n",
       "</style>\n",
       "<table border=\"1\" class=\"dataframe\">\n",
       "  <thead>\n",
       "    <tr style=\"text-align: right;\">\n",
       "      <th></th>\n",
       "      <th>Order ID</th>\n",
       "      <th>Product</th>\n",
       "      <th>Quantity Ordered</th>\n",
       "      <th>Price Each</th>\n",
       "      <th>Order Date</th>\n",
       "      <th>Purchase Address</th>\n",
       "    </tr>\n",
       "  </thead>\n",
       "  <tbody>\n",
       "    <tr>\n",
       "      <th>0</th>\n",
       "      <td>176558</td>\n",
       "      <td>USB-C Charging Cable</td>\n",
       "      <td>2</td>\n",
       "      <td>11.95</td>\n",
       "      <td>04/19/19 08:46</td>\n",
       "      <td>917 1st St, Dallas, TX 75001</td>\n",
       "    </tr>\n",
       "    <tr>\n",
       "      <th>1</th>\n",
       "      <td>None</td>\n",
       "      <td>None</td>\n",
       "      <td>None</td>\n",
       "      <td>None</td>\n",
       "      <td>None</td>\n",
       "      <td>None</td>\n",
       "    </tr>\n",
       "    <tr>\n",
       "      <th>2</th>\n",
       "      <td>176559</td>\n",
       "      <td>Bose SoundSport Headphones</td>\n",
       "      <td>1</td>\n",
       "      <td>99.99</td>\n",
       "      <td>04/07/19 22:30</td>\n",
       "      <td>682 Chestnut St, Boston, MA 02215</td>\n",
       "    </tr>\n",
       "    <tr>\n",
       "      <th>3</th>\n",
       "      <td>176560</td>\n",
       "      <td>Google Phone</td>\n",
       "      <td>1</td>\n",
       "      <td>600</td>\n",
       "      <td>04/12/19 14:38</td>\n",
       "      <td>669 Spruce St, Los Angeles, CA 90001</td>\n",
       "    </tr>\n",
       "    <tr>\n",
       "      <th>4</th>\n",
       "      <td>176560</td>\n",
       "      <td>Wired Headphones</td>\n",
       "      <td>1</td>\n",
       "      <td>11.99</td>\n",
       "      <td>04/12/19 14:38</td>\n",
       "      <td>669 Spruce St, Los Angeles, CA 90001</td>\n",
       "    </tr>\n",
       "    <tr>\n",
       "      <th>5</th>\n",
       "      <td>176561</td>\n",
       "      <td>Wired Headphones</td>\n",
       "      <td>1</td>\n",
       "      <td>11.99</td>\n",
       "      <td>04/30/19 09:27</td>\n",
       "      <td>333 8th St, Los Angeles, CA 90001</td>\n",
       "    </tr>\n",
       "    <tr>\n",
       "      <th>6</th>\n",
       "      <td>176562</td>\n",
       "      <td>USB-C Charging Cable</td>\n",
       "      <td>1</td>\n",
       "      <td>11.95</td>\n",
       "      <td>04/29/19 13:03</td>\n",
       "      <td>381 Wilson St, San Francisco, CA 94016</td>\n",
       "    </tr>\n",
       "    <tr>\n",
       "      <th>7</th>\n",
       "      <td>176563</td>\n",
       "      <td>Bose SoundSport Headphones</td>\n",
       "      <td>1</td>\n",
       "      <td>99.99</td>\n",
       "      <td>04/02/19 07:46</td>\n",
       "      <td>668 Center St, Seattle, WA 98101</td>\n",
       "    </tr>\n",
       "    <tr>\n",
       "      <th>8</th>\n",
       "      <td>176564</td>\n",
       "      <td>USB-C Charging Cable</td>\n",
       "      <td>1</td>\n",
       "      <td>11.95</td>\n",
       "      <td>04/12/19 10:58</td>\n",
       "      <td>790 Ridge St, Atlanta, GA 30301</td>\n",
       "    </tr>\n",
       "    <tr>\n",
       "      <th>9</th>\n",
       "      <td>176565</td>\n",
       "      <td>Macbook Pro Laptop</td>\n",
       "      <td>1</td>\n",
       "      <td>1700</td>\n",
       "      <td>04/24/19 10:38</td>\n",
       "      <td>915 Willow St, San Francisco, CA 94016</td>\n",
       "    </tr>\n",
       "  </tbody>\n",
       "</table>\n",
       "</div>"
      ],
      "text/plain": [
       "  Order ID                     Product Quantity Ordered Price Each  \\\n",
       "0   176558        USB-C Charging Cable                2      11.95   \n",
       "1     None                        None             None       None   \n",
       "2   176559  Bose SoundSport Headphones                1      99.99   \n",
       "3   176560                Google Phone                1        600   \n",
       "4   176560            Wired Headphones                1      11.99   \n",
       "5   176561            Wired Headphones                1      11.99   \n",
       "6   176562        USB-C Charging Cable                1      11.95   \n",
       "7   176563  Bose SoundSport Headphones                1      99.99   \n",
       "8   176564        USB-C Charging Cable                1      11.95   \n",
       "9   176565          Macbook Pro Laptop                1       1700   \n",
       "\n",
       "       Order Date                        Purchase Address  \n",
       "0  04/19/19 08:46            917 1st St, Dallas, TX 75001  \n",
       "1            None                                    None  \n",
       "2  04/07/19 22:30       682 Chestnut St, Boston, MA 02215  \n",
       "3  04/12/19 14:38    669 Spruce St, Los Angeles, CA 90001  \n",
       "4  04/12/19 14:38    669 Spruce St, Los Angeles, CA 90001  \n",
       "5  04/30/19 09:27       333 8th St, Los Angeles, CA 90001  \n",
       "6  04/29/19 13:03  381 Wilson St, San Francisco, CA 94016  \n",
       "7  04/02/19 07:46        668 Center St, Seattle, WA 98101  \n",
       "8  04/12/19 10:58         790 Ridge St, Atlanta, GA 30301  \n",
       "9  04/24/19 10:38  915 Willow St, San Francisco, CA 94016  "
      ]
     },
     "execution_count": 4,
     "metadata": {},
     "output_type": "execute_result"
    }
   ],
   "source": [
    "# Check first 10 rows of DataFrame to get familiar with the data\n",
    "# NOTE: Items purchased together share the same Order ID, multiple rows can have the same Order ID\n",
    "# NOTE: The 'Order ID' column will have duplicated values that must not be removed\n",
    "\n",
    "raw_sales_data.head(10)"
   ]
  },
  {
   "cell_type": "code",
   "execution_count": 5,
   "id": "4406fa39-d12a-4a00-baa2-304f3af8909f",
   "metadata": {},
   "outputs": [
    {
     "data": {
      "text/plain": [
       "(186850, 6)"
      ]
     },
     "execution_count": 5,
     "metadata": {},
     "output_type": "execute_result"
    }
   ],
   "source": [
    "# Use .shape to understand the size of the dataset\n",
    "\n",
    "raw_sales_data.shape"
   ]
  },
  {
   "cell_type": "code",
   "execution_count": 6,
   "id": "4d210ad5-a442-4b58-9727-67b47413a786",
   "metadata": {},
   "outputs": [
    {
     "data": {
      "text/plain": [
       "Order ID            545\n",
       "Product             545\n",
       "Quantity Ordered    545\n",
       "Price Each          545\n",
       "Order Date          545\n",
       "Purchase Address    545\n",
       "dtype: int64"
      ]
     },
     "execution_count": 6,
     "metadata": {},
     "output_type": "execute_result"
    }
   ],
   "source": [
    "# Check for null values\n",
    "\n",
    "raw_sales_data.isna().sum()"
   ]
  },
  {
   "cell_type": "code",
   "execution_count": 7,
   "id": "dd8a83df-9c91-4b52-9892-de9c5138cca0",
   "metadata": {},
   "outputs": [],
   "source": [
    "# Drop null values\n",
    "\n",
    "nonull_sales_data = raw_sales_data.dropna(how='all')"
   ]
  },
  {
   "cell_type": "code",
   "execution_count": 8,
   "id": "c58551d8-8d28-4c64-8767-8cdc7e994d47",
   "metadata": {},
   "outputs": [
    {
     "data": {
      "text/plain": [
       "Order ID            0\n",
       "Product             0\n",
       "Quantity Ordered    0\n",
       "Price Each          0\n",
       "Order Date          0\n",
       "Purchase Address    0\n",
       "dtype: int64"
      ]
     },
     "execution_count": 8,
     "metadata": {},
     "output_type": "execute_result"
    }
   ],
   "source": [
    "# Verify null values have been removed\n",
    "\n",
    "nonull_sales_data.isna().sum()"
   ]
  },
  {
   "cell_type": "code",
   "execution_count": 9,
   "id": "f2cc656b-2a7b-4ff6-99b6-012cc854dee9",
   "metadata": {},
   "outputs": [
    {
     "data": {
      "text/plain": [
       "618"
      ]
     },
     "execution_count": 9,
     "metadata": {},
     "output_type": "execute_result"
    }
   ],
   "source": [
    "# Check for duplicate rows\n",
    "\n",
    "nonull_sales_data.duplicated().sum()"
   ]
  },
  {
   "cell_type": "code",
   "execution_count": 10,
   "id": "4e8c5ff0-3d89-4b1f-bee9-7161130ffefa",
   "metadata": {},
   "outputs": [],
   "source": [
    "# Drop duplicate rows\n",
    "# NOTE: Using .drop_duplicates() only creates a slice of the DataFrame\n",
    "# Copy the slice and assign it to new DataFrame \n",
    "\n",
    "nodup_sales_data = nonull_sales_data.drop_duplicates().copy()"
   ]
  },
  {
   "cell_type": "code",
   "execution_count": 11,
   "id": "82cf0930-14e1-4b2b-bb46-ba7177ce2134",
   "metadata": {},
   "outputs": [
    {
     "data": {
      "text/plain": [
       "0"
      ]
     },
     "execution_count": 11,
     "metadata": {},
     "output_type": "execute_result"
    }
   ],
   "source": [
    "# Verify all duplicate rows have been removed\n",
    "\n",
    "nodup_sales_data.duplicated().sum()"
   ]
  },
  {
   "cell_type": "code",
   "execution_count": 12,
   "id": "3a83e5ab-7e88-477d-b3b3-dd0de9260955",
   "metadata": {},
   "outputs": [
    {
     "data": {
      "text/plain": [
       "Order ID            object\n",
       "Product             object\n",
       "Quantity Ordered    object\n",
       "Price Each          object\n",
       "Order Date          object\n",
       "Purchase Address    object\n",
       "dtype: object"
      ]
     },
     "execution_count": 12,
     "metadata": {},
     "output_type": "execute_result"
    }
   ],
   "source": [
    "# To load this DataFrame into MySQL, column values must be the correct data types\n",
    "# Check data types\n",
    "\n",
    "nodup_sales_data.dtypes"
   ]
  },
  {
   "cell_type": "code",
   "execution_count": 13,
   "id": "8eb7c788-e20a-48ba-aa1a-65948c22075f",
   "metadata": {},
   "outputs": [],
   "source": [
    "# For loop that will iterate through and convert numeric columns first\n",
    "# The loop will then convert date column to datetime in the MM/DD/YYYY HH:MM format\n",
    "# NOTE: Using (errors='coerce') which may result in some NaN values that need to be addressed\n",
    "\n",
    "for col in nodup_sales_data.columns:\n",
    "    try:\n",
    "        if col in ['Order ID', 'Quantity Ordered', 'Price Each']:\n",
    "            # Convert numeric columns\n",
    "            nodup_sales_data[col] = pd.to_numeric(nodup_sales_data[col], errors='coerce')\n",
    "        elif col == 'Order Date':\n",
    "            # Convert date column with a specified format\n",
    "            nodup_sales_data[col] = pd.to_datetime(nodup_sales_data[col], format='%m/%d/%y %H:%M', errors='coerce')\n",
    "    except Exception as e:\n",
    "        print(f\"Could not convert column {col}: {e}\")"
   ]
  },
  {
   "cell_type": "code",
   "execution_count": 14,
   "id": "82f84ae0-d9d9-469d-968c-b7eb99df76fd",
   "metadata": {},
   "outputs": [
    {
     "data": {
      "text/plain": [
       "Order ID                   float64\n",
       "Product                     object\n",
       "Quantity Ordered           float64\n",
       "Price Each                 float64\n",
       "Order Date          datetime64[ns]\n",
       "Purchase Address            object\n",
       "dtype: object"
      ]
     },
     "execution_count": 14,
     "metadata": {},
     "output_type": "execute_result"
    }
   ],
   "source": [
    "# Verify data type conversions\n",
    "# NOTE: 'Product' and 'Purchase Address' still need to be converted to string \n",
    "\n",
    "nodup_sales_data.dtypes"
   ]
  },
  {
   "cell_type": "code",
   "execution_count": 15,
   "id": "9a27c687-0fd6-4a2d-ae7d-ca3051f15b97",
   "metadata": {},
   "outputs": [
    {
     "data": {
      "text/html": [
       "<div>\n",
       "<style scoped>\n",
       "    .dataframe tbody tr th:only-of-type {\n",
       "        vertical-align: middle;\n",
       "    }\n",
       "\n",
       "    .dataframe tbody tr th {\n",
       "        vertical-align: top;\n",
       "    }\n",
       "\n",
       "    .dataframe thead th {\n",
       "        text-align: right;\n",
       "    }\n",
       "</style>\n",
       "<table border=\"1\" class=\"dataframe\">\n",
       "  <thead>\n",
       "    <tr style=\"text-align: right;\">\n",
       "      <th></th>\n",
       "      <th>Order ID</th>\n",
       "      <th>Product</th>\n",
       "      <th>Quantity Ordered</th>\n",
       "      <th>Price Each</th>\n",
       "      <th>Order Date</th>\n",
       "      <th>Purchase Address</th>\n",
       "    </tr>\n",
       "  </thead>\n",
       "  <tbody>\n",
       "    <tr>\n",
       "      <th>519</th>\n",
       "      <td>NaN</td>\n",
       "      <td>Product</td>\n",
       "      <td>NaN</td>\n",
       "      <td>NaN</td>\n",
       "      <td>NaT</td>\n",
       "      <td>Purchase Address</td>\n",
       "    </tr>\n",
       "  </tbody>\n",
       "</table>\n",
       "</div>"
      ],
      "text/plain": [
       "     Order ID  Product  Quantity Ordered  Price Each Order Date  \\\n",
       "519       NaN  Product               NaN         NaN        NaT   \n",
       "\n",
       "     Purchase Address  \n",
       "519  Purchase Address  "
      ]
     },
     "execution_count": 15,
     "metadata": {},
     "output_type": "execute_result"
    }
   ],
   "source": [
    "# Check for rows with NaN values\n",
    "\n",
    "nodup_sales_data[nodup_sales_data.isna().any(axis=1)]"
   ]
  },
  {
   "cell_type": "code",
   "execution_count": 16,
   "id": "82748a9f-93aa-4cd8-97c6-a036ef007c7f",
   "metadata": {},
   "outputs": [],
   "source": [
    "# Remove rows where 'Order ID' is NaN, as these rows contain incomplete data\n",
    "\n",
    "nodup_sales_data = nodup_sales_data[nodup_sales_data['Order ID'].notna()]"
   ]
  },
  {
   "cell_type": "code",
   "execution_count": 17,
   "id": "41388695-07c4-483e-a73e-85d27f46e262",
   "metadata": {},
   "outputs": [
    {
     "data": {
      "text/plain": [
       "Order ID            0\n",
       "Product             0\n",
       "Quantity Ordered    0\n",
       "Price Each          0\n",
       "Order Date          0\n",
       "Purchase Address    0\n",
       "dtype: int64"
      ]
     },
     "execution_count": 17,
     "metadata": {},
     "output_type": "execute_result"
    }
   ],
   "source": [
    "# Check again for NaN values\n",
    "\n",
    "nodup_sales_data.isna().sum()"
   ]
  },
  {
   "cell_type": "code",
   "execution_count": 18,
   "id": "f01961ab-e5b2-48cc-aab5-73961b612ec2",
   "metadata": {},
   "outputs": [],
   "source": [
    "# Convert 'Product' and 'Purchase Address' to string \n",
    "\n",
    "nodup_sales_data['Product'] = nodup_sales_data['Product'].astype('string')\n",
    "nodup_sales_data['Purchase Address'] = nodup_sales_data['Purchase Address'].astype('string')"
   ]
  },
  {
   "cell_type": "code",
   "execution_count": 19,
   "id": "d6cc5fbc-bb6b-4810-ac11-61dc95452a97",
   "metadata": {},
   "outputs": [
    {
     "data": {
      "text/plain": [
       "string[python]"
      ]
     },
     "execution_count": 19,
     "metadata": {},
     "output_type": "execute_result"
    }
   ],
   "source": [
    "# Check 'Product' data type conversion\n",
    "\n",
    "nodup_sales_data['Product'][:5].dtypes"
   ]
  },
  {
   "cell_type": "code",
   "execution_count": 20,
   "id": "a6bb6945-6224-4b63-a31b-83cf4079a39c",
   "metadata": {},
   "outputs": [
    {
     "data": {
      "text/plain": [
       "string[python]"
      ]
     },
     "execution_count": 20,
     "metadata": {},
     "output_type": "execute_result"
    }
   ],
   "source": [
    "# Check 'Purchase Address' data type conversion\n",
    "\n",
    "nodup_sales_data['Purchase Address'][:5].dtypes"
   ]
  },
  {
   "cell_type": "code",
   "execution_count": 21,
   "id": "e42dd2b9-947a-49e3-a1d1-70f907f4fad9",
   "metadata": {},
   "outputs": [
    {
     "data": {
      "text/plain": [
       "Order ID            0\n",
       "Product             0\n",
       "Quantity Ordered    0\n",
       "Price Each          0\n",
       "Order Date          0\n",
       "Purchase Address    0\n",
       "dtype: int64"
      ]
     },
     "execution_count": 21,
     "metadata": {},
     "output_type": "execute_result"
    }
   ],
   "source": [
    "# Check for NaN values\n",
    "\n",
    "nodup_sales_data.isna().sum()"
   ]
  },
  {
   "cell_type": "code",
   "execution_count": 22,
   "id": "3cd8fef1-de15-4b5b-9b81-5a3e7f7d1f9e",
   "metadata": {},
   "outputs": [],
   "source": [
    "# Remove any leading or trailing spaces from strings\n",
    "\n",
    "nodup_sales_data['Product'] = nodup_sales_data['Product'].str.strip()\n",
    "nodup_sales_data['Purchase Address'] = nodup_sales_data['Purchase Address'].str.strip()"
   ]
  },
  {
   "cell_type": "code",
   "execution_count": 23,
   "id": "41d121eb-c86c-4f4c-bf74-0663304d2491",
   "metadata": {},
   "outputs": [],
   "source": [
    "# Parse 'Purchase Address' into 'Street', 'City', 'State_Zip'\n",
    "nodup_sales_data[['Street', 'City', 'State_Zip']] = nodup_sales_data['Purchase Address'].str.rsplit(',', n=2, expand=True)\n",
    "\n",
    "# Further split 'State_Zip' into 'State' and 'Zip'\n",
    "nodup_sales_data[['State', 'Zip']] = nodup_sales_data['State_Zip'].str.extract(r'(\\w+)\\s+(\\d+)')\n",
    "\n",
    "# Drop the intermediate 'State_Zip' column\n",
    "nodup_sales_data.drop('State_Zip', axis=1, inplace=True)"
   ]
  },
  {
   "cell_type": "code",
   "execution_count": 24,
   "id": "107eb0fd-2541-4073-8f6e-db7cff997176",
   "metadata": {},
   "outputs": [
    {
     "data": {
      "text/html": [
       "<div>\n",
       "<style scoped>\n",
       "    .dataframe tbody tr th:only-of-type {\n",
       "        vertical-align: middle;\n",
       "    }\n",
       "\n",
       "    .dataframe tbody tr th {\n",
       "        vertical-align: top;\n",
       "    }\n",
       "\n",
       "    .dataframe thead th {\n",
       "        text-align: right;\n",
       "    }\n",
       "</style>\n",
       "<table border=\"1\" class=\"dataframe\">\n",
       "  <thead>\n",
       "    <tr style=\"text-align: right;\">\n",
       "      <th></th>\n",
       "      <th>Street</th>\n",
       "      <th>City</th>\n",
       "      <th>State</th>\n",
       "      <th>Zip</th>\n",
       "    </tr>\n",
       "  </thead>\n",
       "  <tbody>\n",
       "    <tr>\n",
       "      <th>0</th>\n",
       "      <td>917 1st St</td>\n",
       "      <td>Dallas</td>\n",
       "      <td>TX</td>\n",
       "      <td>75001</td>\n",
       "    </tr>\n",
       "    <tr>\n",
       "      <th>2</th>\n",
       "      <td>682 Chestnut St</td>\n",
       "      <td>Boston</td>\n",
       "      <td>MA</td>\n",
       "      <td>02215</td>\n",
       "    </tr>\n",
       "    <tr>\n",
       "      <th>3</th>\n",
       "      <td>669 Spruce St</td>\n",
       "      <td>Los Angeles</td>\n",
       "      <td>CA</td>\n",
       "      <td>90001</td>\n",
       "    </tr>\n",
       "    <tr>\n",
       "      <th>4</th>\n",
       "      <td>669 Spruce St</td>\n",
       "      <td>Los Angeles</td>\n",
       "      <td>CA</td>\n",
       "      <td>90001</td>\n",
       "    </tr>\n",
       "    <tr>\n",
       "      <th>5</th>\n",
       "      <td>333 8th St</td>\n",
       "      <td>Los Angeles</td>\n",
       "      <td>CA</td>\n",
       "      <td>90001</td>\n",
       "    </tr>\n",
       "  </tbody>\n",
       "</table>\n",
       "</div>"
      ],
      "text/plain": [
       "            Street          City State    Zip\n",
       "0       917 1st St        Dallas    TX  75001\n",
       "2  682 Chestnut St        Boston    MA  02215\n",
       "3    669 Spruce St   Los Angeles    CA  90001\n",
       "4    669 Spruce St   Los Angeles    CA  90001\n",
       "5       333 8th St   Los Angeles    CA  90001"
      ]
     },
     "execution_count": 24,
     "metadata": {},
     "output_type": "execute_result"
    }
   ],
   "source": [
    "# Verify parsing output is correct\n",
    "\n",
    "nodup_sales_data[['Street', 'City', 'State', 'Zip']].head()"
   ]
  },
  {
   "cell_type": "code",
   "execution_count": 25,
   "id": "3f398683-6c70-4082-9dca-80a0eafbcd66",
   "metadata": {},
   "outputs": [],
   "source": [
    "# Drop the 'Purchase Address' column, because its now redundant\n",
    "\n",
    "nodup_sales_data.drop('Purchase Address', axis=1, inplace=True)"
   ]
  },
  {
   "cell_type": "code",
   "execution_count": 26,
   "id": "ae38c4df-293c-4834-83d4-d64e3b0acefa",
   "metadata": {},
   "outputs": [
    {
     "data": {
      "text/html": [
       "<div>\n",
       "<style scoped>\n",
       "    .dataframe tbody tr th:only-of-type {\n",
       "        vertical-align: middle;\n",
       "    }\n",
       "\n",
       "    .dataframe tbody tr th {\n",
       "        vertical-align: top;\n",
       "    }\n",
       "\n",
       "    .dataframe thead th {\n",
       "        text-align: right;\n",
       "    }\n",
       "</style>\n",
       "<table border=\"1\" class=\"dataframe\">\n",
       "  <thead>\n",
       "    <tr style=\"text-align: right;\">\n",
       "      <th></th>\n",
       "      <th>Order ID</th>\n",
       "      <th>Product</th>\n",
       "      <th>Quantity Ordered</th>\n",
       "      <th>Price Each</th>\n",
       "      <th>Order Date</th>\n",
       "      <th>Street</th>\n",
       "      <th>City</th>\n",
       "      <th>State</th>\n",
       "      <th>Zip</th>\n",
       "    </tr>\n",
       "  </thead>\n",
       "  <tbody>\n",
       "    <tr>\n",
       "      <th>0</th>\n",
       "      <td>176558.0</td>\n",
       "      <td>USB-C Charging Cable</td>\n",
       "      <td>2.0</td>\n",
       "      <td>11.95</td>\n",
       "      <td>2019-04-19 08:46:00</td>\n",
       "      <td>917 1st St</td>\n",
       "      <td>Dallas</td>\n",
       "      <td>TX</td>\n",
       "      <td>75001</td>\n",
       "    </tr>\n",
       "    <tr>\n",
       "      <th>2</th>\n",
       "      <td>176559.0</td>\n",
       "      <td>Bose SoundSport Headphones</td>\n",
       "      <td>1.0</td>\n",
       "      <td>99.99</td>\n",
       "      <td>2019-04-07 22:30:00</td>\n",
       "      <td>682 Chestnut St</td>\n",
       "      <td>Boston</td>\n",
       "      <td>MA</td>\n",
       "      <td>02215</td>\n",
       "    </tr>\n",
       "    <tr>\n",
       "      <th>3</th>\n",
       "      <td>176560.0</td>\n",
       "      <td>Google Phone</td>\n",
       "      <td>1.0</td>\n",
       "      <td>600.00</td>\n",
       "      <td>2019-04-12 14:38:00</td>\n",
       "      <td>669 Spruce St</td>\n",
       "      <td>Los Angeles</td>\n",
       "      <td>CA</td>\n",
       "      <td>90001</td>\n",
       "    </tr>\n",
       "    <tr>\n",
       "      <th>4</th>\n",
       "      <td>176560.0</td>\n",
       "      <td>Wired Headphones</td>\n",
       "      <td>1.0</td>\n",
       "      <td>11.99</td>\n",
       "      <td>2019-04-12 14:38:00</td>\n",
       "      <td>669 Spruce St</td>\n",
       "      <td>Los Angeles</td>\n",
       "      <td>CA</td>\n",
       "      <td>90001</td>\n",
       "    </tr>\n",
       "    <tr>\n",
       "      <th>5</th>\n",
       "      <td>176561.0</td>\n",
       "      <td>Wired Headphones</td>\n",
       "      <td>1.0</td>\n",
       "      <td>11.99</td>\n",
       "      <td>2019-04-30 09:27:00</td>\n",
       "      <td>333 8th St</td>\n",
       "      <td>Los Angeles</td>\n",
       "      <td>CA</td>\n",
       "      <td>90001</td>\n",
       "    </tr>\n",
       "  </tbody>\n",
       "</table>\n",
       "</div>"
      ],
      "text/plain": [
       "   Order ID                     Product  Quantity Ordered  Price Each  \\\n",
       "0  176558.0        USB-C Charging Cable               2.0       11.95   \n",
       "2  176559.0  Bose SoundSport Headphones               1.0       99.99   \n",
       "3  176560.0                Google Phone               1.0      600.00   \n",
       "4  176560.0            Wired Headphones               1.0       11.99   \n",
       "5  176561.0            Wired Headphones               1.0       11.99   \n",
       "\n",
       "           Order Date           Street          City State    Zip  \n",
       "0 2019-04-19 08:46:00       917 1st St        Dallas    TX  75001  \n",
       "2 2019-04-07 22:30:00  682 Chestnut St        Boston    MA  02215  \n",
       "3 2019-04-12 14:38:00    669 Spruce St   Los Angeles    CA  90001  \n",
       "4 2019-04-12 14:38:00    669 Spruce St   Los Angeles    CA  90001  \n",
       "5 2019-04-30 09:27:00       333 8th St   Los Angeles    CA  90001  "
      ]
     },
     "execution_count": 26,
     "metadata": {},
     "output_type": "execute_result"
    }
   ],
   "source": [
    "# Verify columns are correct\n",
    "\n",
    "nodup_sales_data.head()"
   ]
  },
  {
   "cell_type": "code",
   "execution_count": 27,
   "id": "1244855c-f5fa-4ed6-ac0e-81f8709f9ce0",
   "metadata": {},
   "outputs": [
    {
     "data": {
      "text/plain": [
       "Order ID            0\n",
       "Product             0\n",
       "Quantity Ordered    0\n",
       "Price Each          0\n",
       "Order Date          0\n",
       "Street              0\n",
       "City                0\n",
       "State               0\n",
       "Zip                 0\n",
       "dtype: int64"
      ]
     },
     "execution_count": 27,
     "metadata": {},
     "output_type": "execute_result"
    }
   ],
   "source": [
    "# Check for any NaN values after parsing\n",
    "\n",
    "nodup_sales_data.isna().sum()"
   ]
  },
  {
   "cell_type": "code",
   "execution_count": 28,
   "id": "9263cb32-42c7-44f6-8746-ad127bf8b86b",
   "metadata": {},
   "outputs": [
    {
     "data": {
      "text/html": [
       "<div>\n",
       "<style scoped>\n",
       "    .dataframe tbody tr th:only-of-type {\n",
       "        vertical-align: middle;\n",
       "    }\n",
       "\n",
       "    .dataframe tbody tr th {\n",
       "        vertical-align: top;\n",
       "    }\n",
       "\n",
       "    .dataframe thead th {\n",
       "        text-align: right;\n",
       "    }\n",
       "</style>\n",
       "<table border=\"1\" class=\"dataframe\">\n",
       "  <thead>\n",
       "    <tr style=\"text-align: right;\">\n",
       "      <th></th>\n",
       "      <th>Quantity Ordered</th>\n",
       "      <th>Price Each</th>\n",
       "    </tr>\n",
       "  </thead>\n",
       "  <tbody>\n",
       "    <tr>\n",
       "      <th>count</th>\n",
       "      <td>185686.000000</td>\n",
       "      <td>185686.000000</td>\n",
       "    </tr>\n",
       "    <tr>\n",
       "      <th>mean</th>\n",
       "      <td>1.124544</td>\n",
       "      <td>184.519255</td>\n",
       "    </tr>\n",
       "    <tr>\n",
       "      <th>std</th>\n",
       "      <td>0.443069</td>\n",
       "      <td>332.843838</td>\n",
       "    </tr>\n",
       "    <tr>\n",
       "      <th>min</th>\n",
       "      <td>1.000000</td>\n",
       "      <td>2.990000</td>\n",
       "    </tr>\n",
       "    <tr>\n",
       "      <th>25%</th>\n",
       "      <td>1.000000</td>\n",
       "      <td>11.950000</td>\n",
       "    </tr>\n",
       "    <tr>\n",
       "      <th>50%</th>\n",
       "      <td>1.000000</td>\n",
       "      <td>14.950000</td>\n",
       "    </tr>\n",
       "    <tr>\n",
       "      <th>75%</th>\n",
       "      <td>1.000000</td>\n",
       "      <td>150.000000</td>\n",
       "    </tr>\n",
       "    <tr>\n",
       "      <th>max</th>\n",
       "      <td>9.000000</td>\n",
       "      <td>1700.000000</td>\n",
       "    </tr>\n",
       "  </tbody>\n",
       "</table>\n",
       "</div>"
      ],
      "text/plain": [
       "       Quantity Ordered     Price Each\n",
       "count     185686.000000  185686.000000\n",
       "mean           1.124544     184.519255\n",
       "std            0.443069     332.843838\n",
       "min            1.000000       2.990000\n",
       "25%            1.000000      11.950000\n",
       "50%            1.000000      14.950000\n",
       "75%            1.000000     150.000000\n",
       "max            9.000000    1700.000000"
      ]
     },
     "execution_count": 28,
     "metadata": {},
     "output_type": "execute_result"
    }
   ],
   "source": [
    "# Check 'Quantity Ordered' and 'Price Each' for outliers\n",
    "# Check min values are non-negative\n",
    "\n",
    "nodup_sales_data[['Quantity Ordered', 'Price Each']].describe()"
   ]
  },
  {
   "cell_type": "code",
   "execution_count": 29,
   "id": "688910ce-223f-4153-bdb9-6a7969c84391",
   "metadata": {},
   "outputs": [
    {
     "data": {
      "text/plain": [
       "(Timestamp('2019-01-01 03:07:00'), Timestamp('2020-01-01 05:13:00'))"
      ]
     },
     "execution_count": 29,
     "metadata": {},
     "output_type": "execute_result"
    }
   ],
   "source": [
    "# Verify date range is within expected time frame\n",
    "\n",
    "nodup_sales_data['Order Date'].min(), nodup_sales_data['Order Date'].max()"
   ]
  },
  {
   "cell_type": "code",
   "execution_count": 30,
   "id": "7a24c5d6-058f-4b0b-963c-b83ca07590d8",
   "metadata": {},
   "outputs": [],
   "source": [
    "# Standardize column names by converting all characters to lowercase and replacing spaces with underscores\n",
    "\n",
    "nodup_sales_data.columns = nodup_sales_data.columns.str.lower().str.replace(' ', '_')"
   ]
  },
  {
   "cell_type": "code",
   "execution_count": 31,
   "id": "b0f180f8-c4ac-4ac4-af74-17a2abc16569",
   "metadata": {},
   "outputs": [
    {
     "data": {
      "text/plain": [
       "Index(['order_id', 'product', 'quantity_ordered', 'price_each', 'order_date',\n",
       "       'street', 'city', 'state', 'zip'],\n",
       "      dtype='object')"
      ]
     },
     "execution_count": 31,
     "metadata": {},
     "output_type": "execute_result"
    }
   ],
   "source": [
    "# Verify output of standardization\n",
    "\n",
    "nodup_sales_data.columns"
   ]
  },
  {
   "cell_type": "code",
   "execution_count": 32,
   "id": "c6a66286-38b3-4093-8c4c-e5918bfdd923",
   "metadata": {},
   "outputs": [],
   "source": [
    "# Add a 'total_price' column to facilitate analyses\n",
    "\n",
    "nodup_sales_data['total_price'] = nodup_sales_data['quantity_ordered'] * nodup_sales_data['price_each']"
   ]
  },
  {
   "cell_type": "code",
   "execution_count": 33,
   "id": "0d2f1530-3579-4bcd-8087-518d7fc34d38",
   "metadata": {},
   "outputs": [
    {
     "data": {
      "text/html": [
       "<div>\n",
       "<style scoped>\n",
       "    .dataframe tbody tr th:only-of-type {\n",
       "        vertical-align: middle;\n",
       "    }\n",
       "\n",
       "    .dataframe tbody tr th {\n",
       "        vertical-align: top;\n",
       "    }\n",
       "\n",
       "    .dataframe thead th {\n",
       "        text-align: right;\n",
       "    }\n",
       "</style>\n",
       "<table border=\"1\" class=\"dataframe\">\n",
       "  <thead>\n",
       "    <tr style=\"text-align: right;\">\n",
       "      <th></th>\n",
       "      <th>order_id</th>\n",
       "      <th>product</th>\n",
       "      <th>quantity_ordered</th>\n",
       "      <th>price_each</th>\n",
       "      <th>order_date</th>\n",
       "      <th>street</th>\n",
       "      <th>city</th>\n",
       "      <th>state</th>\n",
       "      <th>zip</th>\n",
       "      <th>total_price</th>\n",
       "    </tr>\n",
       "  </thead>\n",
       "  <tbody>\n",
       "    <tr>\n",
       "      <th>0</th>\n",
       "      <td>176558.0</td>\n",
       "      <td>USB-C Charging Cable</td>\n",
       "      <td>2.0</td>\n",
       "      <td>11.95</td>\n",
       "      <td>2019-04-19 08:46:00</td>\n",
       "      <td>917 1st St</td>\n",
       "      <td>Dallas</td>\n",
       "      <td>TX</td>\n",
       "      <td>75001</td>\n",
       "      <td>23.90</td>\n",
       "    </tr>\n",
       "    <tr>\n",
       "      <th>2</th>\n",
       "      <td>176559.0</td>\n",
       "      <td>Bose SoundSport Headphones</td>\n",
       "      <td>1.0</td>\n",
       "      <td>99.99</td>\n",
       "      <td>2019-04-07 22:30:00</td>\n",
       "      <td>682 Chestnut St</td>\n",
       "      <td>Boston</td>\n",
       "      <td>MA</td>\n",
       "      <td>02215</td>\n",
       "      <td>99.99</td>\n",
       "    </tr>\n",
       "    <tr>\n",
       "      <th>3</th>\n",
       "      <td>176560.0</td>\n",
       "      <td>Google Phone</td>\n",
       "      <td>1.0</td>\n",
       "      <td>600.00</td>\n",
       "      <td>2019-04-12 14:38:00</td>\n",
       "      <td>669 Spruce St</td>\n",
       "      <td>Los Angeles</td>\n",
       "      <td>CA</td>\n",
       "      <td>90001</td>\n",
       "      <td>600.00</td>\n",
       "    </tr>\n",
       "    <tr>\n",
       "      <th>4</th>\n",
       "      <td>176560.0</td>\n",
       "      <td>Wired Headphones</td>\n",
       "      <td>1.0</td>\n",
       "      <td>11.99</td>\n",
       "      <td>2019-04-12 14:38:00</td>\n",
       "      <td>669 Spruce St</td>\n",
       "      <td>Los Angeles</td>\n",
       "      <td>CA</td>\n",
       "      <td>90001</td>\n",
       "      <td>11.99</td>\n",
       "    </tr>\n",
       "    <tr>\n",
       "      <th>5</th>\n",
       "      <td>176561.0</td>\n",
       "      <td>Wired Headphones</td>\n",
       "      <td>1.0</td>\n",
       "      <td>11.99</td>\n",
       "      <td>2019-04-30 09:27:00</td>\n",
       "      <td>333 8th St</td>\n",
       "      <td>Los Angeles</td>\n",
       "      <td>CA</td>\n",
       "      <td>90001</td>\n",
       "      <td>11.99</td>\n",
       "    </tr>\n",
       "  </tbody>\n",
       "</table>\n",
       "</div>"
      ],
      "text/plain": [
       "   order_id                     product  quantity_ordered  price_each  \\\n",
       "0  176558.0        USB-C Charging Cable               2.0       11.95   \n",
       "2  176559.0  Bose SoundSport Headphones               1.0       99.99   \n",
       "3  176560.0                Google Phone               1.0      600.00   \n",
       "4  176560.0            Wired Headphones               1.0       11.99   \n",
       "5  176561.0            Wired Headphones               1.0       11.99   \n",
       "\n",
       "           order_date           street          city state    zip  total_price  \n",
       "0 2019-04-19 08:46:00       917 1st St        Dallas    TX  75001        23.90  \n",
       "2 2019-04-07 22:30:00  682 Chestnut St        Boston    MA  02215        99.99  \n",
       "3 2019-04-12 14:38:00    669 Spruce St   Los Angeles    CA  90001       600.00  \n",
       "4 2019-04-12 14:38:00    669 Spruce St   Los Angeles    CA  90001        11.99  \n",
       "5 2019-04-30 09:27:00       333 8th St   Los Angeles    CA  90001        11.99  "
      ]
     },
     "execution_count": 33,
     "metadata": {},
     "output_type": "execute_result"
    }
   ],
   "source": [
    "# Verify 'total_price' column and calculation \n",
    "\n",
    "nodup_sales_data.head()"
   ]
  },
  {
   "cell_type": "code",
   "execution_count": 34,
   "id": "ef7f9590-e8eb-4197-bcac-6f88b728acd6",
   "metadata": {},
   "outputs": [
    {
     "data": {
      "text/html": [
       "<div>\n",
       "<style scoped>\n",
       "    .dataframe tbody tr th:only-of-type {\n",
       "        vertical-align: middle;\n",
       "    }\n",
       "\n",
       "    .dataframe tbody tr th {\n",
       "        vertical-align: top;\n",
       "    }\n",
       "\n",
       "    .dataframe thead th {\n",
       "        text-align: right;\n",
       "    }\n",
       "</style>\n",
       "<table border=\"1\" class=\"dataframe\">\n",
       "  <thead>\n",
       "    <tr style=\"text-align: right;\">\n",
       "      <th></th>\n",
       "      <th>price_each</th>\n",
       "      <th>total_price</th>\n",
       "    </tr>\n",
       "  </thead>\n",
       "  <tbody>\n",
       "    <tr>\n",
       "      <th>count</th>\n",
       "      <td>185686.000000</td>\n",
       "      <td>185686.000000</td>\n",
       "    </tr>\n",
       "    <tr>\n",
       "      <th>mean</th>\n",
       "      <td>184.519255</td>\n",
       "      <td>185.611936</td>\n",
       "    </tr>\n",
       "    <tr>\n",
       "      <th>std</th>\n",
       "      <td>332.843838</td>\n",
       "      <td>333.032118</td>\n",
       "    </tr>\n",
       "    <tr>\n",
       "      <th>min</th>\n",
       "      <td>2.990000</td>\n",
       "      <td>2.990000</td>\n",
       "    </tr>\n",
       "    <tr>\n",
       "      <th>25%</th>\n",
       "      <td>11.950000</td>\n",
       "      <td>11.950000</td>\n",
       "    </tr>\n",
       "    <tr>\n",
       "      <th>50%</th>\n",
       "      <td>14.950000</td>\n",
       "      <td>14.950000</td>\n",
       "    </tr>\n",
       "    <tr>\n",
       "      <th>75%</th>\n",
       "      <td>150.000000</td>\n",
       "      <td>150.000000</td>\n",
       "    </tr>\n",
       "    <tr>\n",
       "      <th>max</th>\n",
       "      <td>1700.000000</td>\n",
       "      <td>3400.000000</td>\n",
       "    </tr>\n",
       "  </tbody>\n",
       "</table>\n",
       "</div>"
      ],
      "text/plain": [
       "          price_each    total_price\n",
       "count  185686.000000  185686.000000\n",
       "mean      184.519255     185.611936\n",
       "std       332.843838     333.032118\n",
       "min         2.990000       2.990000\n",
       "25%        11.950000      11.950000\n",
       "50%        14.950000      14.950000\n",
       "75%       150.000000     150.000000\n",
       "max      1700.000000    3400.000000"
      ]
     },
     "execution_count": 34,
     "metadata": {},
     "output_type": "execute_result"
    }
   ],
   "source": [
    "# Check 'total_price' column for calculation errors by comparing summary statistics of 'total_price' vs 'price_each'\n",
    "\n",
    "nodup_sales_data[['price_each','total_price']].describe()"
   ]
  },
  {
   "cell_type": "code",
   "execution_count": 35,
   "id": "44b87f3e-6d6d-418d-b290-fc4644af4d10",
   "metadata": {},
   "outputs": [
    {
     "data": {
      "text/plain": [
       "True"
      ]
     },
     "execution_count": 35,
     "metadata": {},
     "output_type": "execute_result"
    }
   ],
   "source": [
    "# As noted before 'order_id' values repeat because they are assigned to every product on the same order\n",
    "# NOTE: 'order_id' column will have duplicate values that should not be removed they will facilitate aggregation\n",
    "\n",
    "# Add a unique identifier column as 'row_id'\n",
    "nodup_sales_data['row_id'] = range(1, len(nodup_sales_data) + 1)\n",
    "\n",
    "# Verify the uniqueness, should return true\n",
    "nodup_sales_data['row_id'].is_unique  "
   ]
  },
  {
   "cell_type": "code",
   "execution_count": 36,
   "id": "c4277731-bdf3-4ec0-a640-890c2e5431eb",
   "metadata": {},
   "outputs": [
    {
     "data": {
      "text/html": [
       "<div>\n",
       "<style scoped>\n",
       "    .dataframe tbody tr th:only-of-type {\n",
       "        vertical-align: middle;\n",
       "    }\n",
       "\n",
       "    .dataframe tbody tr th {\n",
       "        vertical-align: top;\n",
       "    }\n",
       "\n",
       "    .dataframe thead th {\n",
       "        text-align: right;\n",
       "    }\n",
       "</style>\n",
       "<table border=\"1\" class=\"dataframe\">\n",
       "  <thead>\n",
       "    <tr style=\"text-align: right;\">\n",
       "      <th></th>\n",
       "      <th>row_id</th>\n",
       "      <th>order_id</th>\n",
       "      <th>product</th>\n",
       "      <th>quantity_ordered</th>\n",
       "      <th>price_each</th>\n",
       "      <th>order_date</th>\n",
       "      <th>street</th>\n",
       "      <th>city</th>\n",
       "      <th>state</th>\n",
       "      <th>zip</th>\n",
       "      <th>total_price</th>\n",
       "    </tr>\n",
       "  </thead>\n",
       "  <tbody>\n",
       "    <tr>\n",
       "      <th>0</th>\n",
       "      <td>1</td>\n",
       "      <td>176558.0</td>\n",
       "      <td>USB-C Charging Cable</td>\n",
       "      <td>2.0</td>\n",
       "      <td>11.95</td>\n",
       "      <td>2019-04-19 08:46:00</td>\n",
       "      <td>917 1st St</td>\n",
       "      <td>Dallas</td>\n",
       "      <td>TX</td>\n",
       "      <td>75001</td>\n",
       "      <td>23.90</td>\n",
       "    </tr>\n",
       "    <tr>\n",
       "      <th>2</th>\n",
       "      <td>2</td>\n",
       "      <td>176559.0</td>\n",
       "      <td>Bose SoundSport Headphones</td>\n",
       "      <td>1.0</td>\n",
       "      <td>99.99</td>\n",
       "      <td>2019-04-07 22:30:00</td>\n",
       "      <td>682 Chestnut St</td>\n",
       "      <td>Boston</td>\n",
       "      <td>MA</td>\n",
       "      <td>02215</td>\n",
       "      <td>99.99</td>\n",
       "    </tr>\n",
       "    <tr>\n",
       "      <th>3</th>\n",
       "      <td>3</td>\n",
       "      <td>176560.0</td>\n",
       "      <td>Google Phone</td>\n",
       "      <td>1.0</td>\n",
       "      <td>600.00</td>\n",
       "      <td>2019-04-12 14:38:00</td>\n",
       "      <td>669 Spruce St</td>\n",
       "      <td>Los Angeles</td>\n",
       "      <td>CA</td>\n",
       "      <td>90001</td>\n",
       "      <td>600.00</td>\n",
       "    </tr>\n",
       "    <tr>\n",
       "      <th>4</th>\n",
       "      <td>4</td>\n",
       "      <td>176560.0</td>\n",
       "      <td>Wired Headphones</td>\n",
       "      <td>1.0</td>\n",
       "      <td>11.99</td>\n",
       "      <td>2019-04-12 14:38:00</td>\n",
       "      <td>669 Spruce St</td>\n",
       "      <td>Los Angeles</td>\n",
       "      <td>CA</td>\n",
       "      <td>90001</td>\n",
       "      <td>11.99</td>\n",
       "    </tr>\n",
       "    <tr>\n",
       "      <th>5</th>\n",
       "      <td>5</td>\n",
       "      <td>176561.0</td>\n",
       "      <td>Wired Headphones</td>\n",
       "      <td>1.0</td>\n",
       "      <td>11.99</td>\n",
       "      <td>2019-04-30 09:27:00</td>\n",
       "      <td>333 8th St</td>\n",
       "      <td>Los Angeles</td>\n",
       "      <td>CA</td>\n",
       "      <td>90001</td>\n",
       "      <td>11.99</td>\n",
       "    </tr>\n",
       "  </tbody>\n",
       "</table>\n",
       "</div>"
      ],
      "text/plain": [
       "   row_id  order_id                     product  quantity_ordered  price_each  \\\n",
       "0       1  176558.0        USB-C Charging Cable               2.0       11.95   \n",
       "2       2  176559.0  Bose SoundSport Headphones               1.0       99.99   \n",
       "3       3  176560.0                Google Phone               1.0      600.00   \n",
       "4       4  176560.0            Wired Headphones               1.0       11.99   \n",
       "5       5  176561.0            Wired Headphones               1.0       11.99   \n",
       "\n",
       "           order_date           street          city state    zip  total_price  \n",
       "0 2019-04-19 08:46:00       917 1st St        Dallas    TX  75001        23.90  \n",
       "2 2019-04-07 22:30:00  682 Chestnut St        Boston    MA  02215        99.99  \n",
       "3 2019-04-12 14:38:00    669 Spruce St   Los Angeles    CA  90001       600.00  \n",
       "4 2019-04-12 14:38:00    669 Spruce St   Los Angeles    CA  90001        11.99  \n",
       "5 2019-04-30 09:27:00       333 8th St   Los Angeles    CA  90001        11.99  "
      ]
     },
     "execution_count": 36,
     "metadata": {},
     "output_type": "execute_result"
    }
   ],
   "source": [
    "# Move 'row_id' to the leftmost position\n",
    "cols = ['row_id'] + [col for col in nodup_sales_data.columns if col != 'row_id']\n",
    "nodup_sales_data = nodup_sales_data[cols]\n",
    "\n",
    "# Verify output\n",
    "nodup_sales_data.head()"
   ]
  },
  {
   "cell_type": "code",
   "execution_count": 37,
   "id": "a0d28ab4-9dba-4a82-8f11-901d3939a606",
   "metadata": {},
   "outputs": [],
   "source": [
    "# Data is cleaned, assign nodup_sales_data to clean_sales_data since no more modifications are needed\n",
    "\n",
    "clean_sales_data = nodup_sales_data"
   ]
  },
  {
   "cell_type": "code",
   "execution_count": 38,
   "id": "d6cc4252-8226-4032-b9c1-2ee1a44542c4",
   "metadata": {},
   "outputs": [],
   "source": [
    "# Below is the MySQL code used to create the schema and table in MySQL Workbench\n",
    "# This is where clean_sales_data will be loaded\n",
    "\n",
    "#  -- Create schema\n",
    "#  DROP SCHEMA IF EXISTS sales_analysis;\n",
    "#  CREATE SCHEMA IF NOT EXISTS sales_analysis;\n",
    "\n",
    "#  -- Create table in MySQL\n",
    "#  USE sales_analysis;\n",
    "\n",
    "#  DROP TABLE IF EXISTS sales_data;\n",
    "#  CREATE TABLE IF NOT EXISTS sales_data (\n",
    "#      row_id INT PRIMARY KEY,\n",
    "#      order_id INT,\n",
    "#      product VARCHAR(255),\n",
    "#      quantity_ordered INT,\n",
    "#      price_each FLOAT,\n",
    "#      order_date DATETIME,\n",
    "#      street VARCHAR(255),\n",
    "#      city VARCHAR(100),\n",
    "#      state VARCHAR(10),\n",
    "#      zip VARCHAR(20),\n",
    "#      total_price FLOAT\n",
    "# );"
   ]
  },
  {
   "cell_type": "code",
   "execution_count": 39,
   "id": "be12b67e-0bad-4790-b773-0dd2b97a4153",
   "metadata": {},
   "outputs": [
    {
     "data": {
      "text/plain": [
       "185686"
      ]
     },
     "execution_count": 39,
     "metadata": {},
     "output_type": "execute_result"
    }
   ],
   "source": [
    "# Import libraries\n",
    "\n",
    "import os\n",
    "from sqlalchemy import create_engine\n",
    "\n",
    "# Fetch environment variables\n",
    "username = os.getenv('MYSQL_USER')\n",
    "password = os.getenv('MYSQL_PASSWORD')\n",
    "host = os.getenv('MYSQL_HOST')\n",
    "database = os.getenv('MYSQL_DB')\n",
    "\n",
    "# Create sqlalchemy engine\n",
    "engine = create_engine(f'mysql+pymysql://{username}:{password}@{host}/{database}')\n",
    "\n",
    "# Load the clean_sales_data into MySQL\n",
    "clean_sales_data.to_sql(\n",
    "    'sales_data',       # Table name in MySQL\n",
    "    con=engine,         # Connection to MySQL\n",
    "    if_exists='replace', # Append to existing table, or use 'replace' to overwrite\n",
    "    index=False         # Exclude the DataFrame index\n",
    ")"
   ]
  },
  {
   "cell_type": "code",
   "execution_count": 40,
   "id": "4ebdfcd2-cbb4-48df-9de3-0a3f194348ba",
   "metadata": {},
   "outputs": [
    {
     "name": "stdout",
     "output_type": "stream",
     "text": [
      "Row Count:\n",
      "   row_count\n",
      "0     185686\n",
      "Sample Data:\n",
      "   row_id  order_id                     product  quantity_ordered  price_each  \\\n",
      "0       1  176558.0        USB-C Charging Cable               2.0       11.95   \n",
      "1       2  176559.0  Bose SoundSport Headphones               1.0       99.99   \n",
      "2       3  176560.0                Google Phone               1.0      600.00   \n",
      "3       4  176560.0            Wired Headphones               1.0       11.99   \n",
      "4       5  176561.0            Wired Headphones               1.0       11.99   \n",
      "\n",
      "           order_date           street          city state    zip  total_price  \n",
      "0 2019-04-19 08:46:00       917 1st St        Dallas    TX  75001        23.90  \n",
      "1 2019-04-07 22:30:00  682 Chestnut St        Boston    MA  02215        99.99  \n",
      "2 2019-04-12 14:38:00    669 Spruce St   Los Angeles    CA  90001       600.00  \n",
      "3 2019-04-12 14:38:00    669 Spruce St   Los Angeles    CA  90001        11.99  \n",
      "4 2019-04-30 09:27:00       333 8th St   Los Angeles    CA  90001        11.99  \n",
      "Min and Max Dates from MySQL:\n",
      "             min_date            max_date\n",
      "0 2019-01-01 03:07:00 2020-01-01 05:13:00\n",
      "Min and Max Dates from clean_sales_data:\n",
      "Min Date: 2019-01-01 03:07:00\n",
      "Max Date: 2020-01-01 05:13:00\n"
     ]
    }
   ],
   "source": [
    "# Verify loading with SQL queries from Jupyter \n",
    "\n",
    "# Test Query 1: Check row count\n",
    "query_1 = \"SELECT COUNT(*) AS row_count FROM sales_data;\"\n",
    "row_count = pd.read_sql(query_1, engine)\n",
    "print(\"Row Count:\")\n",
    "print(row_count)\n",
    "\n",
    "# Test Query 2: Retrieve column names and sample rows\n",
    "query_2 = \"SELECT * FROM sales_data LIMIT 5;\"\n",
    "sample_data = pd.read_sql(query_2, engine)\n",
    "print(\"Sample Data:\")\n",
    "print(sample_data)\n",
    "\n",
    "# Test Query 3: Check date range\n",
    "query_min_max_dates = \"\"\"\n",
    "SELECT \n",
    "    MIN(order_date) AS min_date, \n",
    "    MAX(order_date) AS max_date \n",
    "FROM sales_data;\n",
    "\"\"\"\n",
    "\n",
    "# Execute the Test Query 3\n",
    "min_max_dates_sql = pd.read_sql(query_min_max_dates, engine)\n",
    "print(\"Min and Max Dates from MySQL:\")\n",
    "print(min_max_dates_sql)\n",
    "\n",
    "# Get min and max dates from clean_sales_data\n",
    "min_date_local = clean_sales_data['order_date'].min()\n",
    "max_date_local = clean_sales_data['order_date'].max()\n",
    "\n",
    "# Display results\n",
    "print(\"Min and Max Dates from clean_sales_data:\")\n",
    "print(f\"Min Date: {min_date_local}\")\n",
    "print(f\"Max Date: {max_date_local}\")"
   ]
  },
  {
   "cell_type": "code",
   "execution_count": 41,
   "id": "6b509520-0bcf-4384-ab85-814f86de6c0f",
   "metadata": {},
   "outputs": [
    {
     "name": "stdout",
     "output_type": "stream",
     "text": [
      "NULL Value Counts in MySQL Database:\n",
      "   row_id_nulls  order_id_nulls  product_nulls  quantity_ordered_nulls  \\\n",
      "0           0.0             0.0            0.0                     0.0   \n",
      "\n",
      "   price_each_nulls  order_date_nulls  street_nulls  city_nulls  state_nulls  \\\n",
      "0               0.0               0.0           0.0         0.0          0.0   \n",
      "\n",
      "   zip_nulls  total_price_nulls  \n",
      "0        0.0                0.0  \n"
     ]
    }
   ],
   "source": [
    "# Test Query 4: Check NULL values in each column\n",
    "query_null_counts = \"\"\"\n",
    "SELECT \n",
    "    SUM(CASE WHEN row_id IS NULL THEN 1 ELSE 0 END) AS row_id_nulls,\n",
    "    SUM(CASE WHEN order_id IS NULL THEN 1 ELSE 0 END) AS order_id_nulls,\n",
    "    SUM(CASE WHEN product IS NULL THEN 1 ELSE 0 END) AS product_nulls,\n",
    "    SUM(CASE WHEN quantity_ordered IS NULL THEN 1 ELSE 0 END) AS quantity_ordered_nulls,\n",
    "    SUM(CASE WHEN price_each IS NULL THEN 1 ELSE 0 END) AS price_each_nulls,\n",
    "    SUM(CASE WHEN order_date IS NULL THEN 1 ELSE 0 END) AS order_date_nulls,\n",
    "    SUM(CASE WHEN street IS NULL THEN 1 ELSE 0 END) AS street_nulls,\n",
    "    SUM(CASE WHEN city IS NULL THEN 1 ELSE 0 END) AS city_nulls,\n",
    "    SUM(CASE WHEN state IS NULL THEN 1 ELSE 0 END) AS state_nulls,\n",
    "    SUM(CASE WHEN zip IS NULL THEN 1 ELSE 0 END) AS zip_nulls,\n",
    "    SUM(CASE WHEN total_price IS NULL THEN 1 ELSE 0 END) AS total_price_nulls\n",
    "FROM sales_data;\n",
    "\"\"\"\n",
    "\n",
    "# Execute query and store results in DataFrame\n",
    "null_counts = pd.read_sql(query_null_counts, engine)\n",
    "\n",
    "# Display results\n",
    "print(\"NULL Value Counts in MySQL Database:\")\n",
    "print(null_counts)"
   ]
  },
  {
   "cell_type": "code",
   "execution_count": 42,
   "id": "1b368678-ad0f-43f7-a6cc-6a7baefab23f",
   "metadata": {},
   "outputs": [
    {
     "name": "stdout",
     "output_type": "stream",
     "text": [
      "Totals from MySQL:\n",
      "   total_sales_sql  total_quantity_sql\n",
      "0     3.446554e+07            208812.0\n"
     ]
    }
   ],
   "source": [
    "# Test Query 5: Get total sales and total quantity ordered from MySQL\n",
    "query_totals_sql = \"\"\"\n",
    "SELECT \n",
    "    SUM(total_price) AS total_sales_sql, \n",
    "    SUM(quantity_ordered) AS total_quantity_sql\n",
    "FROM sales_data;\n",
    "\"\"\"\n",
    "\n",
    "# Execute the query and load results into a DataFrame\n",
    "totals_sql = pd.read_sql(query_totals_sql, engine)\n",
    "\n",
    "# Display results\n",
    "print(\"Totals from MySQL:\")\n",
    "print(totals_sql)"
   ]
  },
  {
   "cell_type": "code",
   "execution_count": 43,
   "id": "22152ec9-1402-4d56-83e3-ac23304e7c43",
   "metadata": {},
   "outputs": [
    {
     "name": "stdout",
     "output_type": "stream",
     "text": [
      "\n",
      "Totals from clean_sales_data:\n",
      "Total Sales: 34465537.94\n",
      "Total Quantity Ordered: 208812.0\n"
     ]
    }
   ],
   "source": [
    "# Get total sales and total quantity ordered from clean_sales_data\n",
    "total_sales_local = clean_sales_data['total_price'].sum()\n",
    "total_quantity_local = clean_sales_data['quantity_ordered'].sum()\n",
    "\n",
    "# Display results\n",
    "print(\"\\nTotals from clean_sales_data:\")\n",
    "print(f\"Total Sales: {total_sales_local}\")\n",
    "print(f\"Total Quantity Ordered: {total_quantity_local}\")"
   ]
  },
  {
   "cell_type": "code",
   "execution_count": 44,
   "id": "6b3179b2-1f35-4042-b9df-e517f0e0d657",
   "metadata": {},
   "outputs": [
    {
     "name": "stdout",
     "output_type": "stream",
     "text": [
      "Engine disposed, Extract, Transfrom, Load IS COMPLETE!!!.\n"
     ]
    }
   ],
   "source": [
    "# Loaded data looks good!\n",
    "# Dispose of the engine\n",
    "\n",
    "engine.dispose()  \n",
    "print(\"Engine disposed, Extract, Transfrom, Load IS COMPLETE!!!.\")"
   ]
  }
 ],
 "metadata": {
  "kernelspec": {
   "display_name": "Python 3 (ipykernel)",
   "language": "python",
   "name": "python3"
  },
  "language_info": {
   "codemirror_mode": {
    "name": "ipython",
    "version": 3
   },
   "file_extension": ".py",
   "mimetype": "text/x-python",
   "name": "python",
   "nbconvert_exporter": "python",
   "pygments_lexer": "ipython3",
   "version": "3.12.4"
  }
 },
 "nbformat": 4,
 "nbformat_minor": 5
}
